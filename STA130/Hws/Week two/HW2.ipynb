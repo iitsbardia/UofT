{
 "cells": [
  {
   "cell_type": "markdown",
   "id": "5fa39a54",
   "metadata": {},
   "source": [
    "# HW2 - Bardiya Momeni\n",
    "## STA130\n",
    "\n",
    "# Q1\n",
    "\n",
    "bellow is the final code from TUT :"
   ]
  },
  {
   "cell_type": "code",
   "execution_count": 12,
   "id": "16a519e3",
   "metadata": {},
   "outputs": [
    {
     "data": {
      "text/plain": [
       "0.66797"
      ]
     },
     "execution_count": 12,
     "metadata": {},
     "output_type": "execute_result"
    }
   ],
   "source": [
    "import numpy as np\n",
    "all_door_options = (1,2,3)\n",
    "my_door_choice = 1\n",
    "i_won = 0\n",
    "reps = 100000\n",
    "for i in range(reps):\n",
    "    secret_winning_door = np.random.choice(all_door_options)\n",
    "    all_door_options_list = list(all_door_options)\n",
    "    all_door_options_list.remove(secret_winning_door)\n",
    "    try:\n",
    "        all_door_options_list.remove(my_door_choice)\n",
    "    except:\n",
    "        pass\n",
    "    goat_door_reveal = np.random.choice(all_door_options_list)\n",
    "    all_door_options_list.remove(goat_door_reveal)\n",
    "    if secret_winning_door != my_door_choice:\n",
    "        all_door_options_list.append(secret_winning_door)\n",
    "    my_door_choice = all_door_options_list[0]\n",
    "\n",
    "    if my_door_choice == secret_winning_door:\n",
    "        i_won += 1\n",
    "\n",
    "i_won/reps"
   ]
  },
  {
   "cell_type": "markdown",
   "id": "a69903ec",
   "metadata": {},
   "source": [
    "after a quick chat with GPT i am confident i compilitly understand each step, here is  step by step:\n",
    "\n",
    "1. Randomly Choose a Winning Door\n",
    "2. Initialize a List of All Doors and Remove the Winning Door\n",
    "3. Remove the Player's Initial Choice if It Is Not the Winning Door\n",
    "4. Reveal a Goat Door\n",
    "5. Remove the Revealed Goat Door\n",
    "6. Add Back the Winning Door if Needed\n",
    "7. Switch to the Remaining Door\n",
    "\n",
    "By following these steps, we are simulating the Monty Hall problem scenario where the contestant always switches doors after the host reveals a goat door."
   ]
  },
  {
   "cell_type": "markdown",
   "id": "9fe3568f",
   "metadata": {},
   "source": [
    "# Q2\n",
    "\n",
    "## More Simple Approach\n",
    "\n",
    "To create simulation of the Monty Hall problem, we can simplify the approach by using a list to represent the doors. In this list:\n",
    "\n",
    "- `0` represents a goat (losing door).\n",
    "- `1` represents the prize (winning door).\n",
    "\n",
    "### Steps for the Simplified Approach:\n",
    "\n",
    "1. **Setup the Doors:**  \n",
    "   Create a list `[0, 0, 1]` representing two goats and one prize. Randomly shuffle this list to simulate the random placement of the prize behind the doors.\n",
    "\n",
    "2. **Randomly Choose an Initial Door:**  \n",
    "   Randomly select an index (`0`, `1`, or `2`) to represent the contestant's initial choice of a door.\n",
    "\n",
    "3. **Reveal a Goat Door:**  \n",
    "   Identify the remaining two doors that were not initially chosen:\n",
    "   - If both remaining doors are goats (`0`), randomly select one to reveal.\n",
    "   - If there is only one goat door (`0`), reveal that door.\n",
    "\n",
    "4. **Switch to the Remaining Door:**  \n",
    "   After revealing a goat door, switch the contestant's choice to the other remaining unopened door.\n",
    "\n",
    "5. **Check for a Win:**  \n",
    "   Determine if the switched choice results in winning the prize (`1`).\n",
    "\n",
    "### Advantages of the Simplified Code:\n",
    "\n",
    "- **Readability:**  \n",
    "  This approach is more straightforward because it eliminates the need to manage door numbers or handle edge cases involving removing and re-adding doors to lists.\n",
    "\n",
    "- **Clarity:**  \n",
    "  The logic is clearer and more aligned with the problem's real-world setup, where the contestant switches between only two remaining choices.\n",
    "\n",
    "- **Efficiency:**  \n",
    "  Fewer lines of code and simplified control flow make the code easier to understand and maintain.\n",
    "\n",
    "### Preferences Between Original and Simplified Code:\n",
    "\n",
    "While the original code correctly simulates the Monty Hall problem using explicit management of door choices and conditions, the suggested simplified approach improves readability and explainability. It avoids unnecessary complexity by focusing directly on the core logic of the problem—random choice, goat reveal, and switch decision. This makes the process more transparent and easier to understand, especially for those new to programming or the Monty Hall problem.\n"
   ]
  },
  {
   "cell_type": "markdown",
   "id": "bda560ed",
   "metadata": {},
   "source": [
    "# Q3 \n",
    "\n",
    "comlimants of ChatGPT,\n",
    "Below is a preferred, simplified version of the Monty Hall problem simulation in Python. This version is verified to run correctly and provides clear comments explaining each line of the code:"
   ]
  },
  {
   "cell_type": "code",
   "execution_count": 13,
   "id": "f2989be9",
   "metadata": {},
   "outputs": [
    {
     "data": {
      "text/plain": [
       "0.6661"
      ]
     },
     "execution_count": 13,
     "metadata": {},
     "output_type": "execute_result"
    }
   ],
   "source": [
    "import numpy as np\n",
    "\n",
    "# Simulation parameters\n",
    "reps = 100000  # Number of repetitions\n",
    "wins_when_switch = 0  # Counter for wins when switching\n",
    "\n",
    "for _ in range(reps):\n",
    "    # Step 1: Initialize doors (0 = goat, 1 = prize)\n",
    "    doors = [0, 0, 1]\n",
    "    np.random.shuffle(doors)  # Randomly shuffle to place the prize\n",
    "\n",
    "    # Step 2: Contestant randomly picks a door\n",
    "    initial_choice = np.random.randint(0, 3)\n",
    "\n",
    "    # Step 3: Host reveals a goat door from the remaining doors\n",
    "    remaining_doors = [i for i in range(3) if i != initial_choice]\n",
    "    # Find the door to reveal (a goat door)\n",
    "    goat_doors = [door for door in remaining_doors if doors[door] == 0]\n",
    "    reveal_door = np.random.choice(goat_doors)  # Randomly choose one to reveal\n",
    "\n",
    "    # Step 4: Switch to the other remaining door\n",
    "    remaining_doors.remove(reveal_door)\n",
    "    switch_choice = remaining_doors[0]  # The remaining door after the reveal\n",
    "\n",
    "    # Step 5: Check if the switch wins\n",
    "    if doors[switch_choice] == 1:\n",
    "        wins_when_switch += 1\n",
    "\n",
    "# Step 6: Calculate the probability of winning when switching\n",
    "wins_when_switch / reps"
   ]
  },
  {
   "cell_type": "markdown",
   "id": "c786cd08",
   "metadata": {},
   "source": [
    "## Session ChatGPT Summary \n",
    "\n",
    "Link : https://chatgpt.com/share/66e8bbb2-c25c-8011-ab19-bd2a4d0068f7\n",
    "\n",
    "1. **Original Code Overview:**\n",
    "   - You shared a Python simulation of the Monty Hall problem with detailed management of door choices and conditions.\n",
    "\n",
    "2. **Simplified Approach:**\n",
    "   - We discussed a more straightforward solution using a list `[0, 0, 1]` to represent doors, where `0` is a goat and `1` is the prize. This approach eliminates complex handling by focusing on the core steps: shuffling doors, choosing an initial door, revealing a goat, and switching.\n",
    "\n",
    "3. **Key Advantages of Simplified Code:**\n",
    "   - **Readability:** Clear and concise, avoiding unnecessary complexity.\n",
    "   - **Clarity:** Aligns directly with the problem’s logic.\n",
    "   - **Efficiency:** Fewer lines of code make it easier to understand and maintain.\n",
    "\n",
    "4. **Final Submission:**\n",
    "   - We provided the simplified Python code with comments, verified it works correctly, and explained each step for clarity and learning purposes.\n"
   ]
  },
  {
   "cell_type": "markdown",
   "id": "fb7a8e12",
   "metadata": {},
   "source": [
    "# Q4\n",
    "\n",
    "Here is the intial code that i gave to chatgpt for discussition :"
   ]
  },
  {
   "cell_type": "code",
   "execution_count": 14,
   "id": "d8dd90be",
   "metadata": {},
   "outputs": [],
   "source": [
    "# Markovian Chatbot\n",
    "\n",
    "# from collections import defaultdict\n",
    "word_used = dict() # defaultdict(int)\n",
    "next_word = dict() # defaultdict(lambda: defaultdict(int))\n",
    "for i,word in enumerate(words[:-1]):\n",
    "\n",
    "    if word in word_used:\n",
    "        word_used[word] += 1\n",
    "    else:\n",
    "        word_used[word] = 1\n",
    "        next_word[word] = {}\n",
    "\n",
    "    if words[i+1] in next_word[word]:\n",
    "        next_word[word][words[i+1]] += 1\n",
    "    else:\n",
    "        next_word[word][words[i+1]] = 1\n"
   ]
  },
  {
   "cell_type": "markdown",
   "id": "2cca3941",
   "metadata": {},
   "source": [
    "### how the original first version of the \"Markovian ChatBot code\" works ?\n",
    "\n",
    "The original version of the \"Markovian ChatBot\" code builds a frequency-based model of word sequences from a given corpus. This model can be used to generate text that statistically follows the patterns of the input text."
   ]
  },
  {
   "cell_type": "markdown",
   "id": "0059740a",
   "metadata": {},
   "source": [
    "# Q5 \n",
    "\n",
    "## part 1\n",
    "\n",
    "### extention \\#1 \n",
    "\n",
    "- Extension \\#1 enhances the original Markov chain by increasing its \"memory\" from one word to two words. This allows the chatbot to generate more contextually accurate text by considering more of the preceding text when predicting the next word. This second-order Markov model is a step toward creating more natural and fluid conversational agents.\n",
    "\n",
    "### extention \\#2 \n",
    "\n",
    "- Extension \\#2 enhances the \"Markovian ChatBot\" by incorporating character-based modeling, allowing it to generate text that aligns with the specific language style of different characters. This extension is particularly useful in scenarios where maintaining the unique speech patterns of various characters is essential, such as in fan fiction, storytelling, or game dialogues."
   ]
  },
  {
   "cell_type": "markdown",
   "id": "69aa3e5c",
   "metadata": {},
   "source": [
    "## part 2\n",
    "### Summary of Code Extensions\n",
    "\n",
    "1. **Extension #1 - Second-Order Markov Model:**\n",
    "   - Uses **bi-grams** (two-word combinations) to predict the next word.\n",
    "   - `word_used2` tracks frequency of bi-grams.\n",
    "   - `next_word2` tracks the frequency of words following each bi-gram.\n",
    "   - Improves text generation by considering two previous words for more context.\n",
    "\n",
    "2. **Extension #2 - Character-Specific Markov Model:**\n",
    "   - Adds **character-based modeling** to the Markov chain.\n",
    "   - `characters` counts unique characters in a dataset.\n",
    "   - `word_used2C` and `next_word2C` are nested dictionaries for bi-grams under each character.\n",
    "   - Generates character-specific text, retaining unique speech patterns.\n"
   ]
  },
  {
   "cell_type": "markdown",
   "id": "979a0907",
   "metadata": {},
   "source": [
    "## part 3\n",
    "###  GPT Self-Report\n",
    "\n",
    "I, ChatGPT, was provided with the original \"Markovian ChatBot code\" and the final extended version without intermediate steps. I identified two key extensions:\n",
    "\n",
    "1. **Character-Specific Markov Chains**: The code creates separate Markov chains for each character, allowing for text generation that reflects individual speaking styles. This is achieved by using conditional logic and nested data structures to track character-specific word sequences.\n",
    "\n",
    "2. **Bigram Dependency**: The extension uses bigrams (two-word sequences) instead of unigrams (single words) to predict the next word. This is implemented with nested dictionaries that store bigram frequencies and their following words, providing more context for accurate predictions.\n",
    "\n",
    "I understand both extensions and how they enhance the original Markov model."
   ]
  },
  {
   "cell_type": "markdown",
   "id": "e104bc04",
   "metadata": {},
   "source": [
    "## Session ChatGPT Summary\n",
    "\n",
    "Link : https://chatgpt.com/share/66e8c75a-857c-8011-bfe1-34d71a909d70\n",
    "\n",
    "1. **Original \"Markovian ChatBot\" Code Understanding**:\n",
    "   - The original code builds a basic Markov chain model using single-word sequences (unigrams) to predict the next word based on word frequencies.\n",
    "\n",
    "2. **Extension #1 - Second-Order Markov Model**:\n",
    "   - The first extension improves the chatbot by using **bigrams** (two-word combinations) to predict the next word. This enhancement provides more context-aware text generation, making it more coherent.\n",
    "\n",
    "3. **Extension #2 - Character-Specific Markov Model**:\n",
    "   - The second extension adds **character-specific modeling**, creating separate Markov chains for each character to reflect their unique speaking styles. This uses nested dictionaries to track bi-gram frequencies under each character, improving the chatbot’s ability to generate character-appropriate text.\n",
    "\n",
    "4. **Comparison with Other GPT Model Self-Report**:\n",
    "   - You provided another model with the full code, and its self-report correctly identified the two main extensions: character-specific chains and bigram dependency, confirming the enhancements over the original code.\n"
   ]
  },
  {
   "cell_type": "markdown",
   "id": "1add55fb",
   "metadata": {},
   "source": [
    "# Q6\n",
    "\n",
    "For the Monty Hall problem, I found the chatbot incredibly helpful. I simply described my approach in plain English, and it quickly provided a working code. However, for the Markovian ChatBot, it was a bit more challenging. I felt that having some background knowledge and context beforehand would have made the process more enjoyable and effective.\n",
    "\n",
    "Interacting with the chatbot wasn’t frustrating for me—I'm quite used to it since I rely on ChatGPT for almost everything, from emails and coding to math, learning foreign languages, and even music recommendations. It's like one of my top five friends, so I've learned how to phrase my prompts to avoid getting stuck in loops of incorrect answers.\n",
    "\n",
    "Regarding using ChatGPT for coding in this course, I feel it's a bit much for the first semester of the first year. It might be more beneficial to have a solid foundation in coding first before jumping into using AI tools like ChatGPT. Maybe this approach would make more sense later, like in the second year, but perhaps that’s just me showing my age!"
   ]
  },
  {
   "cell_type": "markdown",
   "id": "dfae4418",
   "metadata": {},
   "source": [
    "# Q7\n",
    "\n",
    "Since starting the course, my view of AI tools like ChatGPT has definitely evolved. At first, I thought of it as a quick fix for coding or stats problems, but now I see it more as a learning buddy. Instead of just spitting out answers, it walks me through problems step-by-step, making tough concepts feel more approachable and easier to grasp.\n",
    "\n",
    "I’ve also learned that while ChatGPT is super helpful, it’s important not to rely on it too much early on. Building a solid foundation in coding and data science basics is still key. Now, I use it as a supplement to traditional learning—not a replacement. It’s a great tool to have in the mix, but you still need to put in the work to really understand the material."
   ]
  },
  {
   "cell_type": "markdown",
   "id": "6bf66350",
   "metadata": {},
   "source": [
    "# Q8\n",
    "\n",
    "## Session ChatGPT Summary\n",
    "\n",
    "Link : https://chatgpt.com/share/66e8ca46-ccec-8011-bcd5-a52723d092c2\n",
    "\n",
    "Our discussion focused on the most valuable skills for a career in today's job market, particularly in data science and related fields. Key technical skills include data analysis, coding, machine learning, cloud computing, and cybersecurity. Important soft skills are adaptability, critical thinking, communication, collaboration, leadership, and emotional intelligence. A combination of these technical and soft skills is crucial for career growth, offering flexibility and the potential to excel in diverse roles and industries."
   ]
  },
  {
   "cell_type": "markdown",
   "id": "3ce06117",
   "metadata": {},
   "source": [
    "# Q9\n",
    "\n",
    "### Yes"
   ]
  }
 ],
 "metadata": {
  "kernelspec": {
   "display_name": "Python 3 (ipykernel)",
   "language": "python",
   "name": "python3"
  },
  "language_info": {
   "codemirror_mode": {
    "name": "ipython",
    "version": 3
   },
   "file_extension": ".py",
   "mimetype": "text/x-python",
   "name": "python",
   "nbconvert_exporter": "python",
   "pygments_lexer": "ipython3",
   "version": "3.11.6"
  }
 },
 "nbformat": 4,
 "nbformat_minor": 5
}
